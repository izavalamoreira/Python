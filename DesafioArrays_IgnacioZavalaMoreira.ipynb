{
 "cells": [
  {
   "cell_type": "markdown",
   "metadata": {
    "id": "j04c587HOaXa"
   },
   "source": [
    "**Punto 1**\n",
    "\n",
    "Generar un array aleatorio de 100 elementos. Calcular la mediana correspondiente."
   ]
  },
  {
   "cell_type": "code",
   "execution_count": 1,
   "metadata": {
    "executionInfo": {
     "elapsed": 9,
     "status": "ok",
     "timestamp": 1625431099304,
     "user": {
      "displayName": "Juan Szapsiowicz",
      "photoUrl": "https://lh3.googleusercontent.com/a-/AOh14Gj0DKInwgVSPnAJvxgWPhmmbr5peFtfYRFalD5o0w=s64",
      "userId": "00780539995490076144"
     },
     "user_tz": 180
    },
    "id": "WfzneaB8ON6r"
   },
   "outputs": [],
   "source": [
    "import numpy as np"
   ]
  },
  {
   "cell_type": "code",
   "execution_count": 7,
   "metadata": {
    "colab": {
     "base_uri": "https://localhost:8080/"
    },
    "executionInfo": {
     "elapsed": 413,
     "status": "ok",
     "timestamp": 1625431330870,
     "user": {
      "displayName": "Juan Szapsiowicz",
      "photoUrl": "https://lh3.googleusercontent.com/a-/AOh14Gj0DKInwgVSPnAJvxgWPhmmbr5peFtfYRFalD5o0w=s64",
      "userId": "00780539995490076144"
     },
     "user_tz": 180
    },
    "id": "O8Hz35fKPm7f",
    "outputId": "f4c6e50c-0764-4100-f7f6-a9a189bb845c"
   },
   "outputs": [
    {
     "data": {
      "text/plain": [
       "array([583, 427, 121, 406, 812, 964,  57, 460, 911, 170, 301, 996, 553,\n",
       "       885, 697, 631, 768, 557, 732, 544, 362, 192, 269, 947, 681, 110,\n",
       "       277, 884, 573, 567, 136, 235, 550, 855, 228, 494, 734, 400,  79,\n",
       "       662, 137, 179, 361, 646, 348, 625, 785, 212,  40, 891, 529, 775,\n",
       "       380, 330, 197, 427, 340, 339, 829, 211, 477, 666, 962,  84, 708,\n",
       "       258, 489, 604, 877, 763, 965, 230, 985, 509, 446, 443, 954, 108,\n",
       "       555, 544, 143,  59, 655, 744, 707, 249, 525, 556, 102, 800, 128,\n",
       "       253, 816, 910, 107, 523, 733, 379, 148, 476])"
      ]
     },
     "execution_count": 7,
     "metadata": {
      "tags": []
     },
     "output_type": "execute_result"
    }
   ],
   "source": [
    "x = np.random.randint(1000 ,size = (100))     # Genero array con números aleatorios del 0 al 1000\n",
    "\n",
    "x"
   ]
  },
  {
   "cell_type": "code",
   "execution_count": 8,
   "metadata": {
    "colab": {
     "base_uri": "https://localhost:8080/"
    },
    "executionInfo": {
     "elapsed": 12,
     "status": "ok",
     "timestamp": 1625431441960,
     "user": {
      "displayName": "Juan Szapsiowicz",
      "photoUrl": "https://lh3.googleusercontent.com/a-/AOh14Gj0DKInwgVSPnAJvxgWPhmmbr5peFtfYRFalD5o0w=s64",
      "userId": "00780539995490076144"
     },
     "user_tz": 180
    },
    "id": "3a91jKIHQlPK",
    "outputId": "97a91eb9-4cd2-48cc-e2e8-a3748d5e2b01"
   },
   "outputs": [
    {
     "data": {
      "text/plain": [
       "516.0"
      ]
     },
     "execution_count": 8,
     "metadata": {
      "tags": []
     },
     "output_type": "execute_result"
    }
   ],
   "source": [
    "m = np.median(x)      # Cálculo de la mediana de x\n",
    "\n",
    "m"
   ]
  },
  {
   "cell_type": "code",
   "execution_count": 9,
   "metadata": {
    "colab": {
     "base_uri": "https://localhost:8080/"
    },
    "executionInfo": {
     "elapsed": 876,
     "status": "ok",
     "timestamp": 1625431508246,
     "user": {
      "displayName": "Juan Szapsiowicz",
      "photoUrl": "https://lh3.googleusercontent.com/a-/AOh14Gj0DKInwgVSPnAJvxgWPhmmbr5peFtfYRFalD5o0w=s64",
      "userId": "00780539995490076144"
     },
     "user_tz": 180
    },
    "id": "uoivw-yBQ6s8",
    "outputId": "d0b27c00-ee3c-4592-b1e6-940f677665d6"
   },
   "outputs": [
    {
     "data": {
      "text/plain": [
       "array([966, 696,  58, ..., 909,  85, 706])"
      ]
     },
     "execution_count": 9,
     "metadata": {
      "tags": []
     },
     "output_type": "execute_result"
    }
   ],
   "source": [
    "# Cuantos más elementos tenga el array, más debería acercarse su mediana a la media del rango.\n",
    "\n",
    "x2 = np.random.randint(1000 ,size = (100000))     \n",
    "\n",
    "x2"
   ]
  },
  {
   "cell_type": "code",
   "execution_count": 11,
   "metadata": {
    "colab": {
     "base_uri": "https://localhost:8080/"
    },
    "executionInfo": {
     "elapsed": 520,
     "status": "ok",
     "timestamp": 1625431540502,
     "user": {
      "displayName": "Juan Szapsiowicz",
      "photoUrl": "https://lh3.googleusercontent.com/a-/AOh14Gj0DKInwgVSPnAJvxgWPhmmbr5peFtfYRFalD5o0w=s64",
      "userId": "00780539995490076144"
     },
     "user_tz": 180
    },
    "id": "C5M4r7HSRKBu",
    "outputId": "1b872a14-3776-44a4-9285-47725d3990b9"
   },
   "outputs": [
    {
     "data": {
      "text/plain": [
       "499.0"
      ]
     },
     "execution_count": 11,
     "metadata": {
      "tags": []
     },
     "output_type": "execute_result"
    }
   ],
   "source": [
    "m2 = np.median(x2)   \n",
    "\n",
    "m2"
   ]
  },
  {
   "cell_type": "markdown",
   "metadata": {
    "id": "c7bWPPEnOZIv"
   },
   "source": [
    "_________________________\n",
    "\n",
    "**Punto 2**\n",
    "\n",
    "Recordar los ejercicios con funciones para cálculo de factorial y suma de serie de la Clase 02. Repetir ambos ejercicios, pero ahora utilizar las nuevas operaciones aprendidas con los ndarrays."
   ]
  },
  {
   "cell_type": "code",
   "execution_count": 18,
   "metadata": {
    "executionInfo": {
     "elapsed": 450,
     "status": "ok",
     "timestamp": 1625432156076,
     "user": {
      "displayName": "Juan Szapsiowicz",
      "photoUrl": "https://lh3.googleusercontent.com/a-/AOh14Gj0DKInwgVSPnAJvxgWPhmmbr5peFtfYRFalD5o0w=s64",
      "userId": "00780539995490076144"
     },
     "user_tz": 180
    },
    "id": "ndrk-53sOpEf"
   },
   "outputs": [],
   "source": [
    "# Cálculo del factorial de un número cualquiera\n",
    "\n",
    "def factorial(y):                     # Defino función con una variable independiente\n",
    "\n",
    "  y_fact = np.arange(1,y + 1).prod()  # Defino array desde 1 (para que el 0 no entre en la multiplicación) hasta y + 1 (para que y quede incluido)\n",
    "\n",
    "  print(y,'! =',y_fact)"
   ]
  },
  {
   "cell_type": "code",
   "execution_count": 19,
   "metadata": {
    "colab": {
     "base_uri": "https://localhost:8080/"
    },
    "executionInfo": {
     "elapsed": 975,
     "status": "ok",
     "timestamp": 1625432179195,
     "user": {
      "displayName": "Juan Szapsiowicz",
      "photoUrl": "https://lh3.googleusercontent.com/a-/AOh14Gj0DKInwgVSPnAJvxgWPhmmbr5peFtfYRFalD5o0w=s64",
      "userId": "00780539995490076144"
     },
     "user_tz": 180
    },
    "id": "ic6EMxqZToIs",
    "outputId": "68ab76e5-f1ac-4cb4-a6a1-fdbc69729b39"
   },
   "outputs": [
    {
     "name": "stdout",
     "output_type": "stream",
     "text": [
      "5 ! = 120\n"
     ]
    }
   ],
   "source": [
    "factorial(5)                          # Prueba 1 - 5! = 120"
   ]
  },
  {
   "cell_type": "code",
   "execution_count": 20,
   "metadata": {
    "colab": {
     "base_uri": "https://localhost:8080/"
    },
    "executionInfo": {
     "elapsed": 11,
     "status": "ok",
     "timestamp": 1625432187781,
     "user": {
      "displayName": "Juan Szapsiowicz",
      "photoUrl": "https://lh3.googleusercontent.com/a-/AOh14Gj0DKInwgVSPnAJvxgWPhmmbr5peFtfYRFalD5o0w=s64",
      "userId": "00780539995490076144"
     },
     "user_tz": 180
    },
    "id": "QUqhLnFXToYd",
    "outputId": "a2cdc902-83c7-4244-9e37-77a156842cb5"
   },
   "outputs": [
    {
     "name": "stdout",
     "output_type": "stream",
     "text": [
      "9 ! = 362880\n"
     ]
    }
   ],
   "source": [
    "factorial(9)                          # Prueba 2 - 9! = 362880"
   ]
  },
  {
   "cell_type": "code",
   "execution_count": 21,
   "metadata": {
    "colab": {
     "base_uri": "https://localhost:8080/"
    },
    "executionInfo": {
     "elapsed": 928,
     "status": "ok",
     "timestamp": 1625432201301,
     "user": {
      "displayName": "Juan Szapsiowicz",
      "photoUrl": "https://lh3.googleusercontent.com/a-/AOh14Gj0DKInwgVSPnAJvxgWPhmmbr5peFtfYRFalD5o0w=s64",
      "userId": "00780539995490076144"
     },
     "user_tz": 180
    },
    "id": "6YuluknIToye",
    "outputId": "d806839d-3e94-4686-ada2-51c48b2bc008"
   },
   "outputs": [
    {
     "name": "stdout",
     "output_type": "stream",
     "text": [
      "20 ! = 2432902008176640000\n"
     ]
    }
   ],
   "source": [
    "factorial(20)                         # Prueba 3 - 20! = 2432902008176640000"
   ]
  },
  {
   "cell_type": "code",
   "execution_count": null,
   "metadata": {
    "id": "9NkGYpI3TzMN"
   },
   "outputs": [],
   "source": [
    "np.arange(4).sum()"
   ]
  },
  {
   "cell_type": "code",
   "execution_count": 23,
   "metadata": {
    "executionInfo": {
     "elapsed": 852,
     "status": "ok",
     "timestamp": 1625432336890,
     "user": {
      "displayName": "Juan Szapsiowicz",
      "photoUrl": "https://lh3.googleusercontent.com/a-/AOh14Gj0DKInwgVSPnAJvxgWPhmmbr5peFtfYRFalD5o0w=s64",
      "userId": "00780539995490076144"
     },
     "user_tz": 180
    },
    "id": "YrkZikh_Tzz4"
   },
   "outputs": [],
   "source": [
    "# Cálculo de la suma de los elementos de una serie, siendo el primero menor al segundo\n",
    "\n",
    "def sumatoria(n1, n2):                     # Defino función con una variable independiente\n",
    "\n",
    "  sum = np.arange(n1, n2 + 1).sum()  # Defino array desde 1 (para que el 0 no entre en la multiplicación) hasta y + 1 (para que y quede incluido)\n",
    "\n",
    "  print('Sumat',n1,'-',n2,'=',sum)"
   ]
  },
  {
   "cell_type": "code",
   "execution_count": 24,
   "metadata": {
    "colab": {
     "base_uri": "https://localhost:8080/"
    },
    "executionInfo": {
     "elapsed": 526,
     "status": "ok",
     "timestamp": 1625432358391,
     "user": {
      "displayName": "Juan Szapsiowicz",
      "photoUrl": "https://lh3.googleusercontent.com/a-/AOh14Gj0DKInwgVSPnAJvxgWPhmmbr5peFtfYRFalD5o0w=s64",
      "userId": "00780539995490076144"
     },
     "user_tz": 180
    },
    "id": "Ya5S8yQGTzih",
    "outputId": "b106a25b-ca7d-4527-d779-722b70e5d6a7"
   },
   "outputs": [
    {
     "name": "stdout",
     "output_type": "stream",
     "text": [
      "Sumat 3 - 7 = 25\n"
     ]
    }
   ],
   "source": [
    "sumatoria(3,7)                        # Prueba 1 - Sumat(3;7) = 25"
   ]
  },
  {
   "cell_type": "code",
   "execution_count": 26,
   "metadata": {
    "colab": {
     "base_uri": "https://localhost:8080/"
    },
    "executionInfo": {
     "elapsed": 442,
     "status": "ok",
     "timestamp": 1625432371625,
     "user": {
      "displayName": "Juan Szapsiowicz",
      "photoUrl": "https://lh3.googleusercontent.com/a-/AOh14Gj0DKInwgVSPnAJvxgWPhmmbr5peFtfYRFalD5o0w=s64",
      "userId": "00780539995490076144"
     },
     "user_tz": 180
    },
    "id": "6v54gzv6UUVp",
    "outputId": "6026d7dc-4007-405a-e0a1-d4ab80c92847"
   },
   "outputs": [
    {
     "name": "stdout",
     "output_type": "stream",
     "text": [
      "Sumat 4 - 9 = 39\n"
     ]
    }
   ],
   "source": [
    "sumatoria(4,9)                        # Prueba 2 - Sumat(4;9) = 39"
   ]
  },
  {
   "cell_type": "code",
   "execution_count": 27,
   "metadata": {
    "colab": {
     "base_uri": "https://localhost:8080/"
    },
    "executionInfo": {
     "elapsed": 434,
     "status": "ok",
     "timestamp": 1625432378558,
     "user": {
      "displayName": "Juan Szapsiowicz",
      "photoUrl": "https://lh3.googleusercontent.com/a-/AOh14Gj0DKInwgVSPnAJvxgWPhmmbr5peFtfYRFalD5o0w=s64",
      "userId": "00780539995490076144"
     },
     "user_tz": 180
    },
    "id": "9hBN7OM5UUuQ",
    "outputId": "edf8d1dc-cc7c-4c2b-b9c6-0af3f9933b2f"
   },
   "outputs": [
    {
     "name": "stdout",
     "output_type": "stream",
     "text": [
      "Sumat 10 - 11 = 21\n"
     ]
    }
   ],
   "source": [
    "sumatoria(10,11)                      # Prueba 4 - Sumat(10;11) = 21"
   ]
  },
  {
   "cell_type": "markdown",
   "metadata": {
    "id": "kWSdVPe5O0K3"
   },
   "source": [
    "_____________________\n",
    "\n",
    "**Punto 3**\n",
    "\n",
    "En este link se provee un archivo con los resultados de la Encuesta de Sueldos de Openqube de Febrero 2020 (https://sueldos.openqube.io/encuesta-sueldos-2020.02/ ), Calcular y comparar media y mediana de los sueldos netos.\n",
    "\n"
   ]
  },
  {
   "cell_type": "code",
   "execution_count": 33,
   "metadata": {
    "executionInfo": {
     "elapsed": 1181,
     "status": "ok",
     "timestamp": 1625433195017,
     "user": {
      "displayName": "Juan Szapsiowicz",
      "photoUrl": "https://lh3.googleusercontent.com/a-/AOh14Gj0DKInwgVSPnAJvxgWPhmmbr5peFtfYRFalD5o0w=s64",
      "userId": "00780539995490076144"
     },
     "user_tz": 180
    },
    "id": "RiaO6BXUVTuw"
   },
   "outputs": [],
   "source": [
    "import pandas as pd\n",
    "df = pd.read_csv('Salarios Openqube - 2020.02.csv',decimal ='.')\n",
    "datos = df['Salario mensual NETO (en tu moneda local)'] #busco por nombre de la columna\n",
    "datos = datos[datos != '39.434.784'].astype(float) #para simplificar la limpieza de los datos, elimino este valor y paso todo a numero decimal  "
   ]
  },
  {
   "cell_type": "code",
   "execution_count": 35,
   "metadata": {
    "colab": {
     "base_uri": "https://localhost:8080/"
    },
    "executionInfo": {
     "elapsed": 419,
     "status": "ok",
     "timestamp": 1625433257055,
     "user": {
      "displayName": "Juan Szapsiowicz",
      "photoUrl": "https://lh3.googleusercontent.com/a-/AOh14Gj0DKInwgVSPnAJvxgWPhmmbr5peFtfYRFalD5o0w=s64",
      "userId": "00780539995490076144"
     },
     "user_tz": 180
    },
    "id": "vb_R4oboXjs5",
    "outputId": "17802d1e-2734-490c-ca9d-b3fa403d907d"
   },
   "outputs": [
    {
     "data": {
      "text/plain": [
       "0        43000.000\n",
       "1        63000.000\n",
       "2       127000.000\n",
       "3       102000.000\n",
       "4       106000.000\n",
       "           ...    \n",
       "6410     97000.000\n",
       "6411     71000.000\n",
       "6412        45.753\n",
       "6413        72.000\n",
       "6414     65000.000\n",
       "Name: Salario mensual NETO (en tu moneda local), Length: 6414, dtype: float64"
      ]
     },
     "execution_count": 35,
     "metadata": {
      "tags": []
     },
     "output_type": "execute_result"
    }
   ],
   "source": [
    "datos"
   ]
  },
  {
   "cell_type": "code",
   "execution_count": 40,
   "metadata": {
    "colab": {
     "base_uri": "https://localhost:8080/"
    },
    "executionInfo": {
     "elapsed": 611,
     "status": "ok",
     "timestamp": 1625433446910,
     "user": {
      "displayName": "Juan Szapsiowicz",
      "photoUrl": "https://lh3.googleusercontent.com/a-/AOh14Gj0DKInwgVSPnAJvxgWPhmmbr5peFtfYRFalD5o0w=s64",
      "userId": "00780539995490076144"
     },
     "user_tz": 180
    },
    "id": "cm9nE0HJXvwr",
    "outputId": "1432f449-5216-4818-cfe7-40d1bc2d3218"
   },
   "outputs": [
    {
     "data": {
      "text/plain": [
       "nan"
      ]
     },
     "execution_count": 40,
     "metadata": {
      "tags": []
     },
     "output_type": "execute_result"
    }
   ],
   "source": [
    "mediana = np.median(datos)\n",
    "mediana"
   ]
  },
  {
   "cell_type": "code",
   "execution_count": 41,
   "metadata": {
    "colab": {
     "base_uri": "https://localhost:8080/"
    },
    "executionInfo": {
     "elapsed": 494,
     "status": "ok",
     "timestamp": 1625433577292,
     "user": {
      "displayName": "Juan Szapsiowicz",
      "photoUrl": "https://lh3.googleusercontent.com/a-/AOh14Gj0DKInwgVSPnAJvxgWPhmmbr5peFtfYRFalD5o0w=s64",
      "userId": "00780539995490076144"
     },
     "user_tz": 180
    },
    "id": "n8OLVnTqYQej",
    "outputId": "35b2a6da-deea-41cc-b542-5ce055a81d08"
   },
   "outputs": [
    {
     "data": {
      "text/plain": [
       "76000.0"
      ]
     },
     "execution_count": 41,
     "metadata": {
      "tags": []
     },
     "output_type": "execute_result"
    }
   ],
   "source": [
    "mediana = np.nanmedian(datos)       #Como el cálculo anterior me devuelve NaN, replico con función nanmedian()\n",
    "mediana"
   ]
  },
  {
   "cell_type": "code",
   "execution_count": 42,
   "metadata": {
    "colab": {
     "base_uri": "https://localhost:8080/"
    },
    "executionInfo": {
     "elapsed": 405,
     "status": "ok",
     "timestamp": 1625433692952,
     "user": {
      "displayName": "Juan Szapsiowicz",
      "photoUrl": "https://lh3.googleusercontent.com/a-/AOh14Gj0DKInwgVSPnAJvxgWPhmmbr5peFtfYRFalD5o0w=s64",
      "userId": "00780539995490076144"
     },
     "user_tz": 180
    },
    "id": "Mnih9LW5ZBM6",
    "outputId": "26bfe1b0-b6a3-450c-845e-44bc96c1d0f8"
   },
   "outputs": [
    {
     "data": {
      "text/plain": [
       "19306004.37798064"
      ]
     },
     "execution_count": 42,
     "metadata": {
      "tags": []
     },
     "output_type": "execute_result"
    }
   ],
   "source": [
    "media = datos.mean()\n",
    "media"
   ]
  },
  {
   "cell_type": "code",
   "execution_count": null,
   "metadata": {
    "id": "9h_u2SkdZddW"
   },
   "outputs": [],
   "source": []
  }
 ],
 "metadata": {
  "colab": {
   "authorship_tag": "ABX9TyMl/eNTfuWd8u8sOsGSsVwA",
   "collapsed_sections": [],
   "name": "Arrays_Szpasiowicz.ipynb",
   "provenance": []
  },
  "kernelspec": {
   "display_name": "Python 3",
   "language": "python",
   "name": "python3"
  },
  "language_info": {
   "codemirror_mode": {
    "name": "ipython",
    "version": 3
   },
   "file_extension": ".py",
   "mimetype": "text/x-python",
   "name": "python",
   "nbconvert_exporter": "python",
   "pygments_lexer": "ipython3",
   "version": "3.8.8"
  }
 },
 "nbformat": 4,
 "nbformat_minor": 1
}
