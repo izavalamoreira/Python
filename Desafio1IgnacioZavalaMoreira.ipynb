{
 "cells": [
  {
   "cell_type": "code",
   "execution_count": 2,
   "id": "1cdbd7f8",
   "metadata": {},
   "outputs": [
    {
     "name": "stdout",
     "output_type": "stream",
     "text": [
      "720\n"
     ]
    }
   ],
   "source": [
    "def factorial(numero):\n",
    "   if numero==0 or numero==1:\n",
    "            resultado=1\n",
    "   elif numero>1:\n",
    "            resultado=numero*factorial(numero-1)\n",
    "   return resultado\n",
    "\n",
    "\n",
    "fact6=factorial(6)\n",
    "\n",
    "print(fact6)"
   ]
  },
  {
   "cell_type": "code",
   "execution_count": 3,
   "id": "6d8b5b9f",
   "metadata": {},
   "outputs": [
    {
     "name": "stdout",
     "output_type": "stream",
     "text": [
      "15\n"
     ]
    }
   ],
   "source": [
    "def sumatoria(comienzo,final):\n",
    "    \n",
    "    if ((final<comienzo) or (comienzo==final)):\n",
    "        resultado=-1\n",
    "        print(\"Error\")\n",
    "    else:\n",
    "        resultado=0\n",
    "        for x in range(comienzo,final+1):\n",
    "            resultado += x\n",
    "    return resultado\n",
    "\n",
    "resultadoFinal=sumatoria(1,5)\n",
    "\n",
    "print(resultadoFinal)"
   ]
  },
  {
   "cell_type": "code",
   "execution_count": null,
   "id": "cb6501ee",
   "metadata": {},
   "outputs": [],
   "source": []
  }
 ],
 "metadata": {
  "kernelspec": {
   "display_name": "Python 3",
   "language": "python",
   "name": "python3"
  },
  "language_info": {
   "codemirror_mode": {
    "name": "ipython",
    "version": 3
   },
   "file_extension": ".py",
   "mimetype": "text/x-python",
   "name": "python",
   "nbconvert_exporter": "python",
   "pygments_lexer": "ipython3",
   "version": "3.8.8"
  }
 },
 "nbformat": 4,
 "nbformat_minor": 5
}
